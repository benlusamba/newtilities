{
 "cells": [
  {
   "cell_type": "code",
   "execution_count": 1,
   "metadata": {},
   "outputs": [
    {
     "name": "stdout",
     "output_type": "stream",
     "text": [
      "Waiting Time (Years): 10\n",
      "Equity Allocation (Dollars): 10000\n",
      "Bond Allocation (Dollars): 0\n"
     ]
    }
   ],
   "source": [
    "#Portfolio Growth Calculator (incorporating asset allocation decisions)\n",
    "\n",
    "#User Inputs:\n",
    "num1 = input('Waiting Time (Years): ')\n",
    "num2 = input('Equity Allocation (Dollars): ')\n",
    "num3 = input('Bond Allocation (Dollars): ')"
   ]
  },
  {
   "cell_type": "code",
   "execution_count": 3,
   "metadata": {},
   "outputs": [],
   "source": [
    "#Transform string inputs into floats and integers for calculation:\n",
    "a = int(float(num1))\n",
    "b = int(float(num2))\n",
    "c = int(float(num3))"
   ]
  },
  {
   "cell_type": "code",
   "execution_count": 4,
   "metadata": {},
   "outputs": [],
   "source": [
    "#Calculate the customer's asset allocation:\n",
    "d = b/(b+c)\n",
    "e = c/(b+c)"
   ]
  },
  {
   "cell_type": "code",
   "execution_count": 5,
   "metadata": {},
   "outputs": [],
   "source": [
    "#Alternatively, customer can specify these expected returns as imputs. We fix them for simplicity:\n",
    "stock = 0.08\n",
    "bond = 0.03"
   ]
  },
  {
   "cell_type": "code",
   "execution_count": 6,
   "metadata": {},
   "outputs": [
    {
     "name": "stdout",
     "output_type": "stream",
     "text": [
      "Projected Net Worth (Dollars): 21589\n"
     ]
    }
   ],
   "source": [
    "#Compound Interest\n",
    "print (\"Projected Net Worth (Dollars):\", int(d*b*(1+stock)**a + (e*c*(1+bond)**a)))"
   ]
  },
  {
   "cell_type": "code",
   "execution_count": 7,
   "metadata": {},
   "outputs": [
    {
     "name": "stdout",
     "output_type": "stream",
     "text": [
      "Doubling Time (Years): 9\n"
     ]
    }
   ],
   "source": [
    "#Doubling Time Calculator (CAGR)\n",
    "projected_worth = int(d*b*(1+stock)**a + (e*c*(1+bond)**a))\n",
    "multiple = projected_worth / (b+c)\n",
    "print(\"Doubling Time (Years):\", int(72/(100*(multiple**(1/a)-1))))"
   ]
  }
 ],
 "metadata": {
  "kernelspec": {
   "display_name": "Python 3",
   "language": "python",
   "name": "python3"
  },
  "language_info": {
   "codemirror_mode": {
    "name": "ipython",
    "version": 3
   },
   "file_extension": ".py",
   "mimetype": "text/x-python",
   "name": "python",
   "nbconvert_exporter": "python",
   "pygments_lexer": "ipython3",
   "version": "3.6.4"
  }
 },
 "nbformat": 4,
 "nbformat_minor": 2
}
