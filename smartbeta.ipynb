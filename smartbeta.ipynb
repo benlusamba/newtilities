{
 "cells": [
  {
   "cell_type": "code",
   "execution_count": 59,
   "metadata": {},
   "outputs": [],
   "source": [
    "import pandas as pd\n",
    "import csv\n",
    "import matplotlib.pyplot as plt\n",
    "import matplotlib.dates as mdates\n",
    "import matplotlib.ticker as ticker\n",
    "import numpy as np\n",
    "import numpy\n",
    "import math\n",
    "from scipy.stats import scoreatpercentile\n",
    "from scipy.stats.mstats import mode, gmean, hmean"
   ]
  },
  {
   "cell_type": "code",
   "execution_count": 60,
   "metadata": {},
   "outputs": [],
   "source": [
    "df2 = pd.read_csv('shiller.csv')"
   ]
  },
  {
   "cell_type": "code",
   "execution_count": 61,
   "metadata": {},
   "outputs": [],
   "source": [
    "#Extract critical vectors for stock analysis:\n",
    "x = df2['Year'].values\n",
    "y = df2['Cyclically Adjusted PE Ratio'].values"
   ]
  },
  {
   "cell_type": "code",
   "execution_count": 62,
   "metadata": {},
   "outputs": [
    {
     "data": {
      "image/png": "[encoded data removed]",
      "text/plain": [
       "<Figure size 432x288 with 1 Axes>"
      ]
     },
     "metadata": {},
     "output_type": "display_data"
    }
   ],
   "source": [
    "plt.plot(x, y, c = 'or')                                     # Plot\n",
    "axes = plt.gca()                                                # Define axes\n",
    "plt.ylim(8, 50)                                                 # Set y axis limits\n",
    "plt.gcf().autofmt_xdate()                                       # beautify the x-labels\n",
    "# Adjust axis scales\n",
    "axes.set_yticks(axes.get_yticks()[::2])\n",
    "axes.set_xticks(axes.get_xticks()[::15])\n",
    "\n",
    "#Label graph, and show:\n",
    "plt.title('CAPE: 2000 - 2018')\n",
    "plt.show()\n"
   ]
  },
  {
   "cell_type": "code",
   "execution_count": 63,
   "metadata": {},
   "outputs": [
    {
     "name": "stdout",
     "output_type": "stream",
     "text": [
      "Summary Stats (CAPE)\n",
      "min 13.32366766\n",
      "max 33.30734383\n",
      "std 3.968825529864398\n",
      "mean 23.390759648524586\n",
      "median 23.356344865\n"
     ]
    }
   ],
   "source": [
    "#Provide summary stats to benchmark index selection:\n",
    "print(\"Summary Stats (CAPE)\")\n",
    "print(\"min\", numpy.min(y))\n",
    "print(\"max\", numpy.max(y))\n",
    "print(\"std\", numpy.std(y))\n",
    "print(\"mean\", numpy.mean(y))\n",
    "print(\"median\", numpy.median(y))"
   ]
  },
  {
   "cell_type": "code",
   "execution_count": 64,
   "metadata": {},
   "outputs": [
    {
     "data": {
      "image/png": "[encoded data removed]",
      "text/plain": [
       "<Figure size 432x288 with 1 Axes>"
      ]
     },
     "metadata": {},
     "output_type": "display_data"
    }
   ],
   "source": [
    "#Show Histogram of CAPE for past 18 Years:\n",
    "plt.hist(y, bins='auto', orientation='vertical')\n",
    "plt.title('CAPE Histogram (2000 - 2018)')\n",
    "plt.show()"
   ]
  },
  {
   "cell_type": "code",
   "execution_count": 65,
   "metadata": {},
   "outputs": [],
   "source": [
    "#Onto to the Smart BETA selection process:"
   ]
  },
  {
   "cell_type": "code",
   "execution_count": 66,
   "metadata": {},
   "outputs": [],
   "source": [
    "#import the stock dataset, convert to csv, and read csv for analysis:\n",
    "df1 = pd.read_csv('stocks.csv')"
   ]
  },
  {
   "cell_type": "code",
   "execution_count": 67,
   "metadata": {},
   "outputs": [
    {
     "name": "stdout",
     "output_type": "stream",
     "text": [
      "P/E Set: [18.14 15.24 25.71 18.25 18.85 26.56 15.63 14.18 10.51 23.54 10.16 15.03\n",
      " 15.86 13.74 21.89 22.98 20.58 14.07 26.28 30.7  13.08 17.93 16.94 22.53\n",
      " 18.   32.83 12.14 18.11 21.31]\n"
     ]
    }
   ],
   "source": [
    "company = df1['ticker'].values\n",
    "pe = df1['pe_ratio_12m'].values               #Focus on TTM P/E for robustness\n",
    "print('P/E Set:', pe)"
   ]
  },
  {
   "cell_type": "code",
   "execution_count": 68,
   "metadata": {},
   "outputs": [
    {
     "data": {
      "image/png": "[encoded data removed]",
      "text/plain": [
       "<Figure size 432x288 with 1 Axes>"
      ]
     },
     "metadata": {},
     "output_type": "display_data"
    }
   ],
   "source": [
    "#More data visualization:\n",
    "plt.hist(pe, bins='auto', orientation='vertical')\n",
    "plt.title('P/E Distribution (TTM) - Skewed')\n",
    "plt.show()"
   ]
  },
  {
   "cell_type": "code",
   "execution_count": 69,
   "metadata": {},
   "outputs": [
    {
     "name": "stdout",
     "output_type": "stream",
     "text": [
      "Summary Stats (P/E):\n",
      "p/e median: 18.11\n",
      "p/e min: 10.16\n",
      "p/e max: 32.83\n",
      "p/e std: 5.618895080554382\n",
      "p/e mean: 18.992068965517237\n"
     ]
    }
   ],
   "source": [
    "#Derive summary data to compare against CAPE analysis:\n",
    "print(\"Summary Stats (P/E):\")\n",
    "print(\"p/e median:\", numpy.median(pe))\n",
    "print(\"p/e min:\", numpy.min(pe))\n",
    "print(\"p/e max:\", numpy.max(pe))\n",
    "print(\"p/e std:\", numpy.std(pe))\n",
    "print(\"p/e mean:\", numpy.mean(pe))"
   ]
  },
  {
   "cell_type": "code",
   "execution_count": 70,
   "metadata": {},
   "outputs": [],
   "source": [
    "#Define the \"value\" bands. Adjust st.dev. range in proportion to dateset size:\n",
    "beta_band = int(1*numpy.std(pe) + numpy.mean(pe))\n",
    "alpha_band = int(numpy.mean(pe) - 1*numpy.std(pe))"
   ]
  },
  {
   "cell_type": "code",
   "execution_count": 71,
   "metadata": {},
   "outputs": [
    {
     "name": "stdout",
     "output_type": "stream",
     "text": [
      "sell any stock with P/E above: 24\n",
      "buy any stock with P/E below: 13\n"
     ]
    }
   ],
   "source": [
    "print(\"sell any stock with P/E above:\", beta_band)\n",
    "print(\"buy any stock with P/E below:\", alpha_band)\n"
   ]
  },
  {
   "cell_type": "code",
   "execution_count": 72,
   "metadata": {},
   "outputs": [],
   "source": [
    "min = int(numpy.min(pe))\n",
    "max = int(numpy.max(pe))"
   ]
  },
  {
   "cell_type": "code",
   "execution_count": 73,
   "metadata": {},
   "outputs": [
    {
     "name": "stdout",
     "output_type": "stream",
     "text": [
      "buy these ['AAPL' 'AXP' 'BA' 'CAT' 'CSCO' 'CVX' 'DIS' 'GE' 'GS' 'HD' 'IBM' 'INTC'\n",
      " 'JNJ' 'JPM' 'KO' 'MCD' 'MMM' 'MRK' 'MSFT' 'NKE' 'PFE' 'PG' 'TRV' 'UNH'\n",
      " 'UTX' 'V' 'VZ' 'WMT' 'XOM']\n",
      "buy these ['AAPL' 'AXP' 'BA' 'CAT' 'CSCO' 'CVX' 'DIS' 'GE' 'GS' 'HD' 'IBM' 'INTC'\n",
      " 'JNJ' 'JPM' 'KO' 'MCD' 'MMM' 'MRK' 'MSFT' 'NKE' 'PFE' 'PG' 'TRV' 'UNH'\n",
      " 'UTX' 'V' 'VZ' 'WMT' 'XOM']\n",
      "buy these ['AAPL' 'AXP' 'BA' 'CAT' 'CSCO' 'CVX' 'DIS' 'GE' 'GS' 'HD' 'IBM' 'INTC'\n",
      " 'JNJ' 'JPM' 'KO' 'MCD' 'MMM' 'MRK' 'MSFT' 'NKE' 'PFE' 'PG' 'TRV' 'UNH'\n",
      " 'UTX' 'V' 'VZ' 'WMT' 'XOM']\n"
     ]
    }
   ],
   "source": [
    "#Finally select members for the long/short for the Smart BETA ETF/Index:\n",
    "for pe in range(min, alpha_band):\n",
    "    print(\"buy these\", company)\n",
    "#print('')\n",
    "#for pe in range(beta_band, max):\n",
    " #   print(\"sell these\", company)"
   ]
  }
 ],
 "metadata": {
  "kernelspec": {
   "display_name": "Python 3",
   "language": "python",
   "name": "python3"
  },
  "language_info": {
   "codemirror_mode": {
    "name": "ipython",
    "version": 3
   },
   "file_extension": ".py",
   "mimetype": "text/x-python",
   "name": "python",
   "nbconvert_exporter": "python",
   "pygments_lexer": "ipython3",
   "version": "3.6.4"
  }
 },
 "nbformat": 4,
 "nbformat_minor": 2
}
