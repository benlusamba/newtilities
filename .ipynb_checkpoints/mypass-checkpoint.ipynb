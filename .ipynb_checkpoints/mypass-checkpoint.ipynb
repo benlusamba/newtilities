{
 "cells": [
  {
   "cell_type": "code",
   "execution_count": 3,
   "metadata": {},
   "outputs": [],
   "source": [
    "import random"
   ]
  },
  {
   "cell_type": "code",
   "execution_count": 11,
   "metadata": {},
   "outputs": [
    {
     "name": "stdout",
     "output_type": "stream",
     "text": [
      "Name: Avery\n",
      "Welcome, Avery\n",
      "How many characters?: 9\n"
     ]
    }
   ],
   "source": [
    "username = input('Name: ')\n",
    "print('Welcome,', username)\n",
    "\n"
   ]
  },
  {
   "cell_type": "code",
   "execution_count": null,
   "metadata": {},
   "outputs": [],
   "source": [
    "inp = input('How many characters?: ')\n",
    "try:\n",
    "    len = int(inp)\n",
    "    s = \"abcdefghijklmnopqrstuvwxyz01234567890ABCDEFGHIJKLMNOPQRSTUVWXYZ!@#$%^&*()?\"\n",
    "    p =  \"\".join(random.sample(s,len))\n",
    "    print (p)\n",
    "except:\n",
    "    print('Please enter a number')"
   ]
  }
 ],
 "metadata": {
  "kernelspec": {
   "display_name": "Python 3",
   "language": "python",
   "name": "python3"
  }
 },
 "nbformat": 4,
 "nbformat_minor": 2
}
