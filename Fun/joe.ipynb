{
 "cells": [
  {
   "cell_type": "code",
   "execution_count": 4,
   "metadata": {},
   "outputs": [],
   "source": [
    "def josephus(ls, skip):\n",
    "    skip -= 1 # pop automatically skips the dead guy\n",
    "    idx = skip\n",
    "    while len(ls) > 1:\n",
    "        print (ls.pop(idx)) # kill prisoner at idx\n",
    "        idx = (idx + skip) % len(ls)\n",
    "    print('survivor: ', ls[0])"
   ]
  },
  {
   "cell_type": "code",
   "execution_count": 5,
   "metadata": {},
   "outputs": [
    {
     "name": "stdout",
     "output_type": "stream",
     "text": [
      "3\n",
      "6\n",
      "2\n",
      "7\n",
      "5\n",
      "1\n",
      "survivor:  4\n"
     ]
    }
   ],
   "source": [
    "josephus([1,2,3,4,5,6,7], 3)"
   ]
  },
  {
   "cell_type": "code",
   "execution_count": 6,
   "metadata": {},
   "outputs": [
    {
     "name": "stdout",
     "output_type": "stream",
     "text": [
      "3\n",
      "6\n",
      "2\n",
      "7\n",
      "5\n",
      "1\n",
      "survivor:  4\n"
     ]
    }
   ],
   "source": [
    "josephus([1,2,3,4,5,6,7], 3)\n"
   ]
  },
  {
   "cell_type": "code",
   "execution_count": 7,
   "metadata": {},
   "outputs": [
    {
     "name": "stdout",
     "output_type": "stream",
     "text": [
      "7\n",
      "1\n",
      "3\n",
      "6\n",
      "2\n",
      "4\n",
      "survivor:  5\n"
     ]
    }
   ],
   "source": [
    "josephus([1,2,3,4,5,6,7], 7)\n"
   ]
  },
  {
   "cell_type": "code",
   "execution_count": null,
   "metadata": {},
   "outputs": [],
   "source": []
  }
 ],
 "metadata": {
  "kernelspec": {
   "display_name": "Python 3",
   "language": "python",
   "name": "python3"
  },
  "language_info": {
   "codemirror_mode": {
    "name": "ipython",
    "version": 3
   },
   "file_extension": ".py",
   "mimetype": "text/x-python",
   "name": "python",
   "nbconvert_exporter": "python",
   "pygments_lexer": "ipython3",
   "version": "3.6.4"
  }
 },
 "nbformat": 4,
 "nbformat_minor": 2
}
