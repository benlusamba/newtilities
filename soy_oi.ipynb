{
 "cells": [
  {
   "cell_type": "code",
   "execution_count": null,
   "metadata": {},
   "outputs": [],
   "source": [
    "# Importing Quandl data for analysis\n",
    "\n",
    "import quandl\n",
    "import random\n",
    "import pandas as pd\n",
    "import csv\n",
    "import matplotlib.pyplot as plt\n",
    "import matplotlib.dates as mdates\n",
    "import matplotlib.ticker as ticker\n",
    "import numpy as np"
   ]
  },
  {
   "cell_type": "code",
   "execution_count": null,
   "metadata": {},
   "outputs": [],
   "source": [
    "cot = quandl.get(\"CFTC/005602_FO_ALL\", authtoken=\"Your_Key_HERE\")      #substitute your API key"
   ]
  },
  {
   "cell_type": "code",
   "execution_count": null,
   "metadata": {},
   "outputs": [],
   "source": [
    "#display entire dataset:\n",
    "print(cot)                       "
   ]
  },
  {
   "cell_type": "code",
   "execution_count": null,
   "metadata": {},
   "outputs": [],
   "source": [
    "#export data as csv\n",
    "cot.to_csv('cot.csv') "
   ]
  },
  {
   "cell_type": "code",
   "execution_count": null,
   "metadata": {},
   "outputs": [],
   "source": [
    "#Open CSV file using pandas:\n",
    "df1 = pd.read_csv('cot.csv')"
   ]
  },
  {
   "cell_type": "code",
   "execution_count": null,
   "metadata": {},
   "outputs": [],
   "source": [
    "#Define your variable using data file. We take call the values (not strings) for quant analysis: \n",
    "z = df1['Date'].values\n",
    "x = df1['Open Interest'].values"
   ]
  },
  {
   "cell_type": "code",
   "execution_count": null,
   "metadata": {},
   "outputs": [],
   "source": [
    "#Now for some data visualization with matplotlib. We begin by plotting the Open Interest timeseries:\n",
    "plt.plot(z, x, c = 'orange')   \n",
    "axes = plt.gca()  \n",
    "plt.gcf().autofmt_xdate()  \n",
    "axes.set_xticks(axes.get_xticks()[::25])\n",
    "plt.title('Soybean Open Interest')\n",
    "plt.show()"
   ]
  },
  {
   "cell_type": "code",
   "execution_count": null,
   "metadata": {},
   "outputs": [],
   "source": [
    "#Plot the log of the open interest values: \n",
    "a = np.log(x)\n",
    "plt.plot(z, a, c = 'green')\n",
    "axes = plt.gca()\n",
    "plt.gcf().autofmt_xdate()\n",
    "axes.set_xticks(axes.get_xticks()[::25])\n",
    "plt.title('Log of Soybean OI')\n",
    "plt.show()"
   ]
  },
  {
   "cell_type": "code",
   "execution_count": null,
   "metadata": {},
   "outputs": [],
   "source": [
    "#Plot the distribution of Logs:\n",
    "plt.hist(a, bins='auto', orientation='vertical')\n",
    "plt.title('Distribution of Logs')\n",
    "plt.ylabel('Frequency')\n",
    "plt.xlabel('Log Values - 322 Observations')\n",
    "plt.show()"
   ]
  },
  {
   "cell_type": "code",
   "execution_count": null,
   "metadata": {},
   "outputs": [],
   "source": [
    "#Box Plot of the distribution of the logs to spot outliers:\n",
    "plt.boxplot(a)\n",
    "plt.title('Outliers')\n",
    "plt.show()"
   ]
  }
 ],
 "metadata": {
  "kernelspec": {
   "display_name": "Python 3",
   "language": "python",
   "name": "python3"
  },
  "language_info": {
   "codemirror_mode": {
    "name": "ipython",
    "version": 3
   },
   "file_extension": ".py",
   "mimetype": "text/x-python",
   "name": "python",
   "nbconvert_exporter": "python",
   "pygments_lexer": "ipython3",
   "version": "3.6.4"
  }
 },
 "nbformat": 4,
 "nbformat_minor": 2
}
