{
 "cells": [
  {
   "cell_type": "code",
   "execution_count": 12,
   "metadata": {},
   "outputs": [],
   "source": [
    "import random"
   ]
  },
  {
   "cell_type": "code",
   "execution_count": 13,
   "metadata": {},
   "outputs": [
    {
     "name": "stdout",
     "output_type": "stream",
     "text": [
      "Name: Jennifer\n",
      "Welcome, Jennifer\n"
     ]
    }
   ],
   "source": [
    "username = input('Name: ')\n",
    "print('Welcome,', username)\n",
    "\n"
   ]
  },
  {
   "cell_type": "code",
   "execution_count": 14,
   "metadata": {},
   "outputs": [
    {
     "name": "stdout",
     "output_type": "stream",
     "text": [
      "How many characters?: 8\n",
      "qt27eYRb\n"
     ]
    }
   ],
   "source": [
    "inp = input('How many characters?: ')\n",
    "try:\n",
    "    len = int(inp)\n",
    "    s = \"abcdefghijklmnopqrstuvwxyz01234567890ABCDEFGHIJKLMNOPQRSTUVWXYZ!@#$%^&*()?\"\n",
    "    p =  \"\".join(random.sample(s,len))\n",
    "    print (p)\n",
    "except:\n",
    "    print('Please enter a number')"
   ]
  }
 ],
 "metadata": {
  "kernelspec": {
   "display_name": "Python 3",
   "language": "python",
   "name": "python3"
  }
 },
 "nbformat": 4,
 "nbformat_minor": 2
}
